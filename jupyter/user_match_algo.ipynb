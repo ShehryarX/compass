{
 "cells": [
  {
   "cell_type": "code",
   "execution_count": 42,
   "metadata": {},
   "outputs": [],
   "source": [
    "import pandas as pd\n",
    "import numpy as np"
   ]
  },
  {
   "cell_type": "code",
   "execution_count": 43,
   "metadata": {},
   "outputs": [],
   "source": [
    "from sklearn.cluster import KMeans"
   ]
  },
  {
   "cell_type": "code",
   "execution_count": 44,
   "metadata": {},
   "outputs": [],
   "source": [
    "def process_df(df, categories,category_sums, rename_cols = True):\n",
    "    \n",
    "    df = df.fillna(value='$$')\n",
    "    \n",
    "    if (rename_cols):\n",
    "        df = df.rename(columns={\"data/id\": \"id\", \"data/name\": \"name\",\"data/category\":\"category\",\"data/price_range\":\"price_range\"})\n",
    "    \n",
    "    for i, row in df.iterrows():\n",
    "        val = row['price_range']\n",
    "        if val.find('$') < 0:\n",
    "            df.at[i, 'price_range'] = 1\n",
    "        else:\n",
    "            df.at[i, 'price_range'] = len(val)\n",
    "\n",
    "    for category in categories:\n",
    "        category_sums[category] = len(df.loc[df['category'] == category])\n",
    "        \n",
    "    tensor_list = create_tensors(df, category_sums)\n",
    "\n",
    "    return tensor_list"
   ]
  },
  {
   "cell_type": "code",
   "execution_count": 45,
   "metadata": {},
   "outputs": [],
   "source": [
    "def create_tensors(df, category_sums):\n",
    "    tensor = {k:0 for k,v in category_sums.items()}  \n",
    "    for i in range(1, 5):\n",
    "        tensor['$' + str(i)] = 0\n",
    "    for i, row in df.iterrows():\n",
    "        tensor['$' + str(row['price_range'])] += 1\n",
    "        if row['category'] in tensor:\n",
    "            tensor[row['category']] += 1\n",
    "    \n",
    "    return tensor.values()"
   ]
  },
  {
   "cell_type": "code",
   "execution_count": 46,
   "metadata": {},
   "outputs": [],
   "source": [
    "def cluster_friends(user_id,categories,category_sums):\n",
    "    friends_df = pd.read_csv('./all_friends.csv')\n",
    "    friends_df = friends_df.fillna(value='$$')\n",
    "    friend_ids = friends_df.user_id.unique()\n",
    "    data_input = np.zeros((len(friend_ids), 54))\n",
    "    index_user_id_map = []\n",
    "    for i,friend_id in enumerate(friend_ids):\n",
    "        temp_df = friends_df.loc[friends_df['user_id'] == friend_id]\n",
    "        user_tensor_list = process_df(temp_df, categories,category_sums, rename_cols = False)\n",
    "        index_user_id_map.append(friend_id)\n",
    "        data_input[i] = list(user_tensor_list)\n",
    "    kmeans = KMeans(n_clusters=4).fit(data_input)\n",
    "    return kmeans,data_input,index_user_id_map"
   ]
  },
  {
   "cell_type": "code",
   "execution_count": 47,
   "metadata": {},
   "outputs": [],
   "source": [
    "def get_closest_friends(my_id, index_user_id_map, kmeans, data_input, target_nodes = 4):\n",
    "    # KnnNode class, storage class\n",
    "    class KnnNode:\n",
    "        def __init__(self,value,cluster_id,user_id):\n",
    "            self.value = value\n",
    "            self.cluster_id = cluster_id\n",
    "            self.user_id = user_id\n",
    "\n",
    "        def __str__(self):\n",
    "            return str(self.value) + \", \" + str(self.user_id)\n",
    "\n",
    "    knnNodes = []\n",
    "\n",
    "    # Map into object\n",
    "    for friend_id in index_user_id_map:\n",
    "        i = index_user_id_map.index(friend_id)\n",
    "        knnNodes.append(KnnNode(kmeans.score([data_input[i]]),\n",
    "                            kmeans.predict([data_input[i]]),\n",
    "                            friend_id))\n",
    "\n",
    "    # Sort by value\n",
    "    knnNodes.sort(key=lambda x: x.value, reverse=True)\n",
    "    \n",
    "    max_range = -1 * knnNodes[-1].value\n",
    "\n",
    "    start_index = 0 # index of my_id in the array knnNodes\n",
    "    closest = [] # unpolished array of neighbours\n",
    "\n",
    "    for i in range(0, len(knnNodes)):\n",
    "        knnNode = knnNodes[i]\n",
    "        # if my id is found, set it to that\n",
    "        if str(knnNode.user_id) == my_id:\n",
    "            start_index = i\n",
    "\n",
    "    # keep track for efficient sorted array traversal\n",
    "    left_index = start_index - 1\n",
    "    right_index = start_index\n",
    "\n",
    "    # will count up until target nodes\n",
    "    count = 0\n",
    "\n",
    "    while count < target_nodes:\n",
    "        # will go right if possible and take the node\n",
    "        if right_index < len(knnNodes):\n",
    "            closest.append(knnNodes[right_index])\n",
    "            right_index += 1\n",
    "            count += 1\n",
    "        # will go left if possible\n",
    "        if left_index >= 0:\n",
    "            closest.append(knnNodes[left_index])\n",
    "            left_index -= 1\n",
    "            count += 1\n",
    "\n",
    "    inclusive_closest = []\n",
    "    my_value = 0\n",
    "\n",
    "    # closest but without my_id\n",
    "    for close in closest:\n",
    "        if str(close.user_id) != str(my_id):\n",
    "            inclusive_closest.append(close)\n",
    "        else:\n",
    "            my_value = close.value\n",
    "            \n",
    "    # sort by best friends\n",
    "    inclusive_closest.sort(key=lambda x: x.value, reverse=True) \n",
    "\n",
    "    return inclusive_closest, max_range, my_value"
   ]
  },
  {
   "cell_type": "code",
   "execution_count": 48,
   "metadata": {},
   "outputs": [],
   "source": [
    "def get_events(my_id, event_type,index_user_id_map, all_df, kmeans, data_input):\n",
    "    closest, max_range, my_value = get_closest_friends(my_id,index_user_id_map,kmeans, data_input)\n",
    "    percentageSort = []\n",
    "\n",
    "    for close in closest:\n",
    "        percentageSort.append({\n",
    "            'user_id': close.user_id,\n",
    "            'value': 1 - abs(abs(my_value) - abs(close.value)) / max_range\n",
    "        })\n",
    "\n",
    "    percentageSort.sort(key=lambda x: x['value'], reverse=True) \n",
    "\n",
    "    events = []\n",
    "    \n",
    "    for userItem in percentageSort:\n",
    "        userId = userItem['user_id']\n",
    "        user_df = all_df.loc[all_df['user_id'] == userId]\n",
    "        user_df = user_df.loc[user_df['category'].str.contains(event_type)]\n",
    "        events += (list(user_df['name']))\n",
    "        \n",
    "    return events"
   ]
  },
  {
   "cell_type": "code",
   "execution_count": 49,
   "metadata": {},
   "outputs": [],
   "source": [
    "def get_categories(user_id):\n",
    "    \n",
    "    main_df = pd.read_csv('./data.csv')\n",
    "    \n",
    "    main_df = main_df.fillna(value='$$')\n",
    "\n",
    "    main_df = main_df.rename(columns={\"data/id\": \"id\", \"data/name\": \"name\",\"data/category\":\"category\",\"data/price_range\":\"price_range\"})\n",
    "\n",
    "    categories = main_df.category.unique()\n",
    "    category_sums = {}\n",
    "    for category in categories:\n",
    "            category_sums[category] = len(main_df.loc[main_df['category'] == category])\n",
    "            \n",
    "    return categories,category_sums"
   ]
  },
  {
   "cell_type": "code",
   "execution_count": 69,
   "metadata": {},
   "outputs": [],
   "source": [
    "import random\n"
   ]
  },
  {
   "cell_type": "code",
   "execution_count": 84,
   "metadata": {},
   "outputs": [],
   "source": [
    "def main_function(user_id):\n",
    "    # Label categories\n",
    "    categories,category_sums = get_categories(user_id)\n",
    "    \n",
    "    # Cluster friends\n",
    "    kmeans,data_input,index_user_id_map = cluster_friends(user_id,categories,category_sums)\n",
    "    \n",
    "    print(len(data_input))\n",
    "    data = data_input\n",
    "    color = ['blue','black','black','black','red','green','green','green','black','red','red']\n",
    "    \n",
    "    x,y = indic(data)\n",
    "    y = [random.uniform(0, 1) for i in range(11)]\n",
    "    plt.figure(figsize=(10,10))\n",
    "    plt.scatter(x, y, marker='x', color = color)\n",
    "    plt.show()\n",
    "\n",
    "    # Get closest friends and get events\n",
    "    all_df = pd.read_csv('./all_friends.csv')\n",
    "    return get_events(user_id, 'Shop', index_user_id_map, all_df , kmeans , data_input)"
   ]
  },
  {
   "cell_type": "code",
   "execution_count": 85,
   "metadata": {},
   "outputs": [
    {
     "name": "stdout",
     "output_type": "stream",
     "text": [
      "11\n"
     ]
    },
    {
     "data": {
      "image/png": "[encoded data removed]",
      "text/plain": [
       "<Figure size 720x720 with 1 Axes>"
      ]
     },
     "metadata": {
      "needs_background": "light"
     },
     "output_type": "display_data"
    },
    {
     "data": {
      "text/plain": [
       "['Butter Avenue', \"Arby's\", 'Yutopia']"
      ]
     },
     "execution_count": 85,
     "metadata": {},
     "output_type": "execute_result"
    }
   ],
   "source": [
    "main_function('911762459191977')"
   ]
  },
  {
   "cell_type": "code",
   "execution_count": 39,
   "metadata": {},
   "outputs": [
    {
     "data": {
      "text/plain": [
       "<matplotlib.collections.PathCollection at 0x11d8938d0>"
      ]
     },
     "execution_count": 39,
     "metadata": {},
     "output_type": "execute_result"
    },
    {
     "data": {
      "image/png": "[encoded data removed]",
      "text/plain": [
       "<Figure size 432x288 with 1 Axes>"
      ]
     },
     "metadata": {
      "needs_background": "light"
     },
     "output_type": "display_data"
    }
   ],
   "source": [
    "plt.scatter([1,3,4,1,2],[22,31,33,1,3])"
   ]
  },
  {
   "cell_type": "code",
   "execution_count": null,
   "metadata": {},
   "outputs": [],
   "source": []
  }
 ],
 "metadata": {
  "kernelspec": {
   "display_name": "Python 3",
   "language": "python",
   "name": "python3"
  },
  "language_info": {
   "codemirror_mode": {
    "name": "ipython",
    "version": 3
   },
   "file_extension": ".py",
   "mimetype": "text/x-python",
   "name": "python",
   "nbconvert_exporter": "python",
   "pygments_lexer": "ipython3",
   "version": "3.7.1"
  }
 },
 "nbformat": 4,
 "nbformat_minor": 2
}
